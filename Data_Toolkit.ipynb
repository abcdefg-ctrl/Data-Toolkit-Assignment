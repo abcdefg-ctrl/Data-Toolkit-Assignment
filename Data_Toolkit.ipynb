{
  "nbformat": 4,
  "nbformat_minor": 0,
  "metadata": {
    "colab": {
      "provenance": []
    },
    "kernelspec": {
      "name": "python3",
      "display_name": "Python 3"
    },
    "language_info": {
      "name": "python"
    }
  },
  "cells": [
    {
      "cell_type": "markdown",
      "source": [
        "# Data Toolkit Theory Questions:"
      ],
      "metadata": {
        "id": "tBJixlUSOck5"
      }
    },
    {
      "cell_type": "markdown",
      "source": [
        "1. What is NumPy, and why is it widely used in Python?\n",
        "\n",
        "   -> NumPy is a powerful library for numerical computing in Python. It provides support for large, multi-dimensional arrays and matrices, along with a collection of high-level mathematical functions. It's widely used due to its speed, efficiency, and ability to integrate with other libraries like Pandas, SciPy, and scikit-learn.\n"
      ],
      "metadata": {
        "id": "YKvg6eByOkQd"
      }
    },
    {
      "cell_type": "markdown",
      "source": [
        "2. How does broadcasting work in NumPy?\n",
        "\n",
        "   -> Broadcasting allows NumPy to perform operations on arrays of different shapes and sizes without explicitly replicating data. It works by stretching the dimensions of arrays so element-wise operations can be applied.\n"
      ],
      "metadata": {
        "id": "6CM8i7XaO1qA"
      }
    },
    {
      "cell_type": "markdown",
      "source": [
        "3. What is a Pandas DataFrame?\n",
        "\n",
        " -> A DataFrame is a two-dimensional, size-mutable, and heterogeneous tabular data structure with labeled axes (rows and columns) in Pandas.\n"
      ],
      "metadata": {
        "id": "GeWMTlalOyRx"
      }
    },
    {
      "cell_type": "markdown",
      "source": [
        "4. Explain the use of the groupby() method in Pandas.\n",
        "\n",
        "   -> The groupby() method splits data into groups based on a key or column, applies a function to each group (like sum or mean), and combines the results. It’s used for aggregation and transformation tasks."
      ],
      "metadata": {
        "id": "G2BdhCKjOzQ4"
      }
    },
    {
      "cell_type": "markdown",
      "source": [
        "5. Why is Seaborn preferred for statistical visualizations?\n",
        "\n",
        "   -> Seaborn provides a high-level interface for drawing attractive and informative statistical graphics. It integrates well with Pandas and simplifies complex visualizations like heatmaps, violin plots, and pair plots.\n"
      ],
      "metadata": {
        "id": "Q0aJMbleOzw0"
      }
    },
    {
      "cell_type": "markdown",
      "source": [
        "6. What are the differences between NumPy arrays and Python lists?\n",
        "\n",
        "\n",
        "*   NumPy arrays are more memory efficient and faster.\n",
        "\n",
        "*   They support vectorized operations.\n",
        "*   Arrays must contain elements of the same data type, unlike lists.\n",
        "\n",
        "\n",
        "\n"
      ],
      "metadata": {
        "id": "Fv8SWf8yQpEM"
      }
    },
    {
      "cell_type": "markdown",
      "source": [
        "7. What is a heatmap, and when should it be used?\n",
        "\n",
        " -> A heatmap is a data visualization technique that uses color to represent the values of a matrix. It's useful for identifying patterns, correlations, or missing values in datasets.\n"
      ],
      "metadata": {
        "id": "2Mtn4vZjQpU5"
      }
    },
    {
      "cell_type": "markdown",
      "source": [
        "8. What does the term “vectorized operation” mean in NumPy?\n",
        "\n",
        " -> It refers to operations that are applied element-wise across arrays without using explicit loops, making computations faster and more concise.\n"
      ],
      "metadata": {
        "id": "Ksm9uwW0QpwO"
      }
    },
    {
      "cell_type": "markdown",
      "source": [
        "9. How does Matplotlib differ from Plotly?\n",
        "\n",
        "\n",
        "\n",
        "*   Matplotlib is static and customizable for basic plots.\n",
        "\n",
        "*   Plotly provides interactive and dynamic plots, better suited for dashboards and web apps.\n",
        "\n"
      ],
      "metadata": {
        "id": "Zm4r7DwXQqa_"
      }
    },
    {
      "cell_type": "markdown",
      "source": [
        "10. What is the significance of hierarchical indexing in Pandas?\n",
        "\n",
        " -> Hierarchical indexing allows for multi-level indexing of rows or columns, enabling complex data structures like panels or nested data to be represented more intuitively.\n"
      ],
      "metadata": {
        "id": "4I2ipt0rRhtA"
      }
    },
    {
      "cell_type": "markdown",
      "source": [
        "11. What is the role of Seaborn’s pairplot() function?\n",
        "\n",
        " -> pairplot() visualizes pairwise relationships between numerical variables in a dataset, often used for exploratory data analysis.\n"
      ],
      "metadata": {
        "id": "WCO5vRH6Rik7"
      }
    },
    {
      "cell_type": "markdown",
      "source": [
        "12. What is the purpose of the describe() function in Pandas?\n",
        "\n",
        " -> It generates descriptive statistics like mean, std, min, and quartiles for numerical columns in a DataFrame.\n"
      ],
      "metadata": {
        "id": "HDDkHNisRjQV"
      }
    },
    {
      "cell_type": "markdown",
      "source": [
        "13. Why is handling missing data important in Pandas?\n",
        "\n",
        " -> Missing data can skew analysis and lead to incorrect conclusions. Pandas offers functions to detect, remove, or impute missing values to ensure data integrity.\n"
      ],
      "metadata": {
        "id": "mkoe1s3iRj3b"
      }
    },
    {
      "cell_type": "markdown",
      "source": [
        "14. What are the benefits of using Plotly for data visualization?\n",
        "\n",
        "\n",
        "*   Interactive plots\n",
        "\n",
        "*   Easy integration with web applications\n",
        "*   Support for a wide variety of chart types\n",
        "\n",
        "\n",
        "\n"
      ],
      "metadata": {
        "id": "7D0G5ShhSBc-"
      }
    },
    {
      "cell_type": "markdown",
      "source": [
        "15. How does NumPy handle multidimensional arrays?\n",
        "\n",
        " -> NumPy uses the ndarray object to store arrays of any dimension. It provides tools like reshape(), transpose(), and axis operations to manipulate these arrays.\n"
      ],
      "metadata": {
        "id": "CeTydFiNSCN6"
      }
    },
    {
      "cell_type": "markdown",
      "source": [
        "16. What is the role of Bokeh in data visualization?\n",
        "\n",
        " -> Bokeh is used for interactive web-based visualizations. It enables users to create dynamic plots that respond to UI elements like sliders or dropdowns.\n"
      ],
      "metadata": {
        "id": "6JATwwnZSC4_"
      }
    },
    {
      "cell_type": "markdown",
      "source": [
        "17. Explain the difference between apply() and map() in Pandas.\n",
        "\n",
        "\n",
        "*   map() is used for element-wise transformations on Series.\n",
        "*   apply() works on both Series and DataFrames, applying functions to rows or columns.\n",
        "\n",
        "\n"
      ],
      "metadata": {
        "id": "SxAIEH6HSDT2"
      }
    },
    {
      "cell_type": "markdown",
      "source": [
        "18. What are some advanced features of NumPy?\n",
        "\n",
        "\n",
        "*   Broadcasting\n",
        "\n",
        "*   Masked arrays\n",
        "\n",
        "*   Linear algebra operations\n",
        "*   Random sampling\n",
        "\n",
        "\n",
        "*   Fourier transforms\n",
        "\n"
      ],
      "metadata": {
        "id": "N0Sj6nr4SDoh"
      }
    },
    {
      "cell_type": "markdown",
      "source": [
        "19. How does Pandas simplify time series analysis?\n",
        "\n",
        " -> Pandas provides datetime indexing, resampling, rolling statistics, and time zone handling to simplify time series data processing.\n"
      ],
      "metadata": {
        "id": "Md_yPw6vSEEa"
      }
    },
    {
      "cell_type": "markdown",
      "source": [
        "20. What is the role of a pivot table in Pandas?\n",
        "\n",
        " -> Pivot tables summarize data, allowing you to aggregate and rearrange it based on categories (rows/columns), similar to Excel pivot tables.\n"
      ],
      "metadata": {
        "id": "n8FX4UBhViXA"
      }
    },
    {
      "cell_type": "markdown",
      "source": [
        "21. Why is NumPy’s array slicing faster than Python’s list slicing?\n",
        "\n",
        " -> NumPy arrays are stored in contiguous memory blocks, allowing efficient slicing and memory access. Python lists are arrays of pointers, making slicing slower.\n"
      ],
      "metadata": {
        "id": "y9nCVT0cViG_"
      }
    },
    {
      "cell_type": "markdown",
      "source": [
        "22. What are some common use cases for Seaborn?\n",
        "\n",
        "\n",
        "*   Visualizing distributions (histograms, KDEs)\n",
        "*   Plotting categorical data (box plots, bar plots)\n",
        "\n",
        "\n",
        "*   Correlation heatmaps\n",
        "*   Pairwise relationship analysis\n",
        "\n",
        "\n"
      ],
      "metadata": {
        "id": "MCJPRd_SVh2C"
      }
    },
    {
      "cell_type": "markdown",
      "source": [
        "#Data Toolkit Pactical Questions:"
      ],
      "metadata": {
        "id": "A9ObB7_FVhhb"
      }
    },
    {
      "cell_type": "code",
      "source": [
        "#1.How do you create a 2D NumPy array and calculate the sum of each row?\n",
        "\n",
        "'''\n",
        "import numpy as np\n",
        "\n",
        "arr = np.array([[1, 2, 3], [4, 5, 6]])\n",
        "row_sums = np.sum(arr, axis=1)\n",
        "print(\"Row sums:\", row_sums)\n",
        "'''"
      ],
      "metadata": {
        "colab": {
          "base_uri": "https://localhost:8080/",
          "height": 36
        },
        "id": "4qGqiJ53YXWk",
        "outputId": "743c0077-0bef-4d56-d562-60f635d763c5"
      },
      "execution_count": 1,
      "outputs": [
        {
          "output_type": "execute_result",
          "data": {
            "text/plain": [
              "'\\nimport numpy as np\\n\\narr = np.array([[1, 2, 3], [4, 5, 6]])\\nrow_sums = np.sum(arr, axis=1)\\nprint(\"Row sums:\", row_sums)\\n'"
            ],
            "application/vnd.google.colaboratory.intrinsic+json": {
              "type": "string"
            }
          },
          "metadata": {},
          "execution_count": 1
        }
      ]
    },
    {
      "cell_type": "code",
      "source": [
        "#2.Write a Pandas script to find the mean of a specific column in a DataFrame.\n",
        "\n",
        "'''\n",
        "import pandas as pd\n",
        "\n",
        "df = pd.DataFrame({'A': [10, 20, 30], 'B': [40, 50, 60]})\n",
        "mean_val = df['A'].mean()\n",
        "print(\"Mean of column A:\", mean_val)\n",
        "'''"
      ],
      "metadata": {
        "colab": {
          "base_uri": "https://localhost:8080/",
          "height": 36
        },
        "id": "yGuBddS_YXL4",
        "outputId": "e8428dda-1af3-492b-f076-f542e71003a4"
      },
      "execution_count": 2,
      "outputs": [
        {
          "output_type": "execute_result",
          "data": {
            "text/plain": [
              "'\\nimport pandas as pd\\n\\ndf = pd.DataFrame({\\'A\\': [10, 20, 30], \\'B\\': [40, 50, 60]})\\nmean_val = df[\\'A\\'].mean()\\nprint(\"Mean of column A:\", mean_val)\\n'"
            ],
            "application/vnd.google.colaboratory.intrinsic+json": {
              "type": "string"
            }
          },
          "metadata": {},
          "execution_count": 2
        }
      ]
    },
    {
      "cell_type": "code",
      "source": [
        "#3.Create a scatter plot using Matplotlib.\n",
        "\n",
        "'''\n",
        "import matplotlib.pyplot as plt\n",
        "\n",
        "x = [1, 2, 3, 4]\n",
        "y = [10, 20, 25, 30]\n",
        "plt.scatter(x, y)\n",
        "plt.xlabel(\"X-axis\")\n",
        "plt.ylabel(\"Y-axis\")\n",
        "plt.title(\"Scatter Plot\")\n",
        "plt.show()\n",
        "'''"
      ],
      "metadata": {
        "colab": {
          "base_uri": "https://localhost:8080/",
          "height": 36
        },
        "id": "22bCZAY3YXA-",
        "outputId": "358cdf15-89d8-4122-dbd3-d4f3ed9ea1c6"
      },
      "execution_count": 4,
      "outputs": [
        {
          "output_type": "execute_result",
          "data": {
            "text/plain": [
              "'\\nimport matplotlib.pyplot as plt\\n\\nx = [1, 2, 3, 4]\\ny = [10, 20, 25, 30]\\nplt.scatter(x, y)\\nplt.xlabel(\"X-axis\")\\nplt.ylabel(\"Y-axis\")\\nplt.title(\"Scatter Plot\")\\nplt.show()\\n'"
            ],
            "application/vnd.google.colaboratory.intrinsic+json": {
              "type": "string"
            }
          },
          "metadata": {},
          "execution_count": 4
        }
      ]
    },
    {
      "cell_type": "code",
      "source": [
        "#4. How do you calculate the correlation matrix using Seaborn and visualize it with a heatmap?\n",
        "\n",
        "'''\n",
        "import seaborn as sns\n",
        "import pandas as pd\n",
        "import matplotlib.pyplot as plt\n",
        "\n",
        "df = pd.DataFrame({\n",
        "    'A': [1, 2, 3],\n",
        "    'B': [4, 5, 6],\n",
        "    'C': [7, 8, 9]\n",
        "})\n",
        "correlation = df.corr()\n",
        "sns.heatmap(correlation, annot=True)\n",
        "plt.title(\"Correlation Matrix Heatmap\")\n",
        "plt.show()\n",
        "'''"
      ],
      "metadata": {
        "colab": {
          "base_uri": "https://localhost:8080/",
          "height": 53
        },
        "id": "N0gzjtjaYW2e",
        "outputId": "40429874-73d3-4a83-e470-99408ebdf4cc"
      },
      "execution_count": 5,
      "outputs": [
        {
          "output_type": "execute_result",
          "data": {
            "text/plain": [
              "'\\nimport seaborn as sns\\nimport pandas as pd\\nimport matplotlib.pyplot as plt\\n\\ndf = pd.DataFrame({\\n    \\'A\\': [1, 2, 3],\\n    \\'B\\': [4, 5, 6],\\n    \\'C\\': [7, 8, 9]\\n})\\ncorrelation = df.corr()\\nsns.heatmap(correlation, annot=True)\\nplt.title(\"Correlation Matrix Heatmap\")\\nplt.show()\\n'"
            ],
            "application/vnd.google.colaboratory.intrinsic+json": {
              "type": "string"
            }
          },
          "metadata": {},
          "execution_count": 5
        }
      ]
    },
    {
      "cell_type": "code",
      "source": [
        "#5.Generate a bar plot using Plotly.\n",
        "\n",
        "'''\n",
        "import plotly.express as px\n",
        "\n",
        "data = {'Fruit': ['Apple', 'Banana', 'Cherry'], 'Count': [10, 15, 7]}\n",
        "df = pd.DataFrame(data)\n",
        "fig = px.bar(df, x='Fruit', y='Count', title='Fruit Count')\n",
        "fig.show()\n",
        "'''"
      ],
      "metadata": {
        "colab": {
          "base_uri": "https://localhost:8080/",
          "height": 53
        },
        "id": "qB21kngQYWsW",
        "outputId": "d35352c2-c2b8-40cb-84ed-279e80099ca3"
      },
      "execution_count": 6,
      "outputs": [
        {
          "output_type": "execute_result",
          "data": {
            "text/plain": [
              "\"\\nimport plotly.express as px\\n\\ndata = {'Fruit': ['Apple', 'Banana', 'Cherry'], 'Count': [10, 15, 7]}\\ndf = pd.DataFrame(data)\\nfig = px.bar(df, x='Fruit', y='Count', title='Fruit Count')\\nfig.show()\\n\""
            ],
            "application/vnd.google.colaboratory.intrinsic+json": {
              "type": "string"
            }
          },
          "metadata": {},
          "execution_count": 6
        }
      ]
    },
    {
      "cell_type": "code",
      "source": [
        "#6.Create a DataFrame and add a new column based on an existing column.\n",
        "\n",
        "'''\n",
        "df = pd.DataFrame({'A': [1, 2, 3]})\n",
        "df['B'] = df['A'] * 2\n",
        "print(df)\n",
        "'''"
      ],
      "metadata": {
        "colab": {
          "base_uri": "https://localhost:8080/",
          "height": 36
        },
        "id": "R7ofYyTyYWg5",
        "outputId": "ae7d8f62-38bf-4a0e-e4fb-2efad62e79af"
      },
      "execution_count": 7,
      "outputs": [
        {
          "output_type": "execute_result",
          "data": {
            "text/plain": [
              "\"\\ndf = pd.DataFrame({'A': [1, 2, 3]})\\ndf['B'] = df['A'] * 2\\nprint(df)\\n\""
            ],
            "application/vnd.google.colaboratory.intrinsic+json": {
              "type": "string"
            }
          },
          "metadata": {},
          "execution_count": 7
        }
      ]
    },
    {
      "cell_type": "code",
      "source": [
        "#7.Write a program to perform element-wise multiplication of two NumPy arrays.\n",
        "\n",
        "'''\n",
        "import numpy as np\n",
        "\n",
        "a = np.array([1, 2, 3])\n",
        "b = np.array([4, 5, 6])\n",
        "result = a * b\n",
        "print(\"Element-wise multiplication:\", result)\n",
        "'''"
      ],
      "metadata": {
        "colab": {
          "base_uri": "https://localhost:8080/",
          "height": 36
        },
        "id": "twtNC9T2YWU3",
        "outputId": "6add6583-66f5-4cf3-b439-b06cd83ad5a6"
      },
      "execution_count": 8,
      "outputs": [
        {
          "output_type": "execute_result",
          "data": {
            "text/plain": [
              "'\\nimport numpy as np\\n\\na = np.array([1, 2, 3])\\nb = np.array([4, 5, 6])\\nresult = a * b\\nprint(\"Element-wise multiplication:\", result)\\n'"
            ],
            "application/vnd.google.colaboratory.intrinsic+json": {
              "type": "string"
            }
          },
          "metadata": {},
          "execution_count": 8
        }
      ]
    },
    {
      "cell_type": "code",
      "source": [
        "#8.Create a line plot with multiple lines using Matplotlib.\n",
        "\n",
        "'''\n",
        "import matplotlib.pyplot as plt\n",
        "\n",
        "x = [1, 2, 3]\n",
        "y1 = [1, 4, 9]\n",
        "y2 = [2, 5, 10]\n",
        "plt.plot(x, y1, label='Line 1')\n",
        "plt.plot(x, y2, label='Line 2')\n",
        "plt.legend()\n",
        "plt.title(\"Multiple Lines\")\n",
        "plt.show()\n",
        "'''"
      ],
      "metadata": {
        "colab": {
          "base_uri": "https://localhost:8080/",
          "height": 53
        },
        "id": "N8z8_JiPYWG3",
        "outputId": "fd208b06-07fd-4f4e-b6a4-7ba831f7e8c6"
      },
      "execution_count": 9,
      "outputs": [
        {
          "output_type": "execute_result",
          "data": {
            "text/plain": [
              "'\\nimport matplotlib.pyplot as plt\\n\\nx = [1, 2, 3]\\ny1 = [1, 4, 9]\\ny2 = [2, 5, 10]\\nplt.plot(x, y1, label=\\'Line 1\\')\\nplt.plot(x, y2, label=\\'Line 2\\')\\nplt.legend()\\nplt.title(\"Multiple Lines\")\\nplt.show()\\n'"
            ],
            "application/vnd.google.colaboratory.intrinsic+json": {
              "type": "string"
            }
          },
          "metadata": {},
          "execution_count": 9
        }
      ]
    },
    {
      "cell_type": "code",
      "source": [
        "#9.Generate a Pandas DataFrame and filter rows where a column value is greater than a threshold.\n",
        "\n",
        "'''\n",
        "df = pd.DataFrame({'A': [5, 10, 15, 20]})\n",
        "filtered_df = df[df['A'] > 10]\n",
        "print(filtered_df)\n",
        "'''"
      ],
      "metadata": {
        "colab": {
          "base_uri": "https://localhost:8080/",
          "height": 36
        },
        "id": "5dzZB8cuYV2g",
        "outputId": "5116856a-dd9d-470a-d56d-546bd0c4a63a"
      },
      "execution_count": 10,
      "outputs": [
        {
          "output_type": "execute_result",
          "data": {
            "text/plain": [
              "\"\\ndf = pd.DataFrame({'A': [5, 10, 15, 20]})\\nfiltered_df = df[df['A'] > 10]\\nprint(filtered_df)\\n\""
            ],
            "application/vnd.google.colaboratory.intrinsic+json": {
              "type": "string"
            }
          },
          "metadata": {},
          "execution_count": 10
        }
      ]
    },
    {
      "cell_type": "code",
      "source": [
        "#10.Create a histogram using Seaborn to visualize a distribution.\n",
        "\n",
        "'''\n",
        "import seaborn as sns\n",
        "import matplotlib.pyplot as plt\n",
        "\n",
        "data = [1, 2, 2, 3, 3, 3, 4]\n",
        "sns.histplot(data, bins=4)\n",
        "plt.title(\"Histogram\")\n",
        "plt.show()\n",
        "'''"
      ],
      "metadata": {
        "colab": {
          "base_uri": "https://localhost:8080/",
          "height": 36
        },
        "id": "OpY6HC5PYVia",
        "outputId": "3a82bf38-68c6-4a61-91f2-20185b2adab5"
      },
      "execution_count": 11,
      "outputs": [
        {
          "output_type": "execute_result",
          "data": {
            "text/plain": [
              "'\\nimport seaborn as sns\\nimport matplotlib.pyplot as plt\\n\\ndata = [1, 2, 2, 3, 3, 3, 4]\\nsns.histplot(data, bins=4)\\nplt.title(\"Histogram\")\\nplt.show()\\n'"
            ],
            "application/vnd.google.colaboratory.intrinsic+json": {
              "type": "string"
            }
          },
          "metadata": {},
          "execution_count": 11
        }
      ]
    },
    {
      "cell_type": "code",
      "source": [
        "#11.Perform matrix multiplication using NumPy.\n",
        "\n",
        "'''\n",
        "import numpy as np\n",
        "\n",
        "A = np.array([[1, 2], [3, 4]])\n",
        "B = np.array([[5, 6], [7, 8]])\n",
        "result = np.dot(A, B)\n",
        "print(\"Matrix Multiplication:\\n\", result)\n",
        "'''"
      ],
      "metadata": {
        "colab": {
          "base_uri": "https://localhost:8080/",
          "height": 36
        },
        "id": "SdkmiKnBcjR7",
        "outputId": "1f8f18a5-f291-4da3-df23-6c39384e4f1b"
      },
      "execution_count": 12,
      "outputs": [
        {
          "output_type": "execute_result",
          "data": {
            "text/plain": [
              "'\\nimport numpy as np\\n\\nA = np.array([[1, 2], [3, 4]])\\nB = np.array([[5, 6], [7, 8]])\\nresult = np.dot(A, B)\\nprint(\"Matrix Multiplication:\\n\", result)\\n'"
            ],
            "application/vnd.google.colaboratory.intrinsic+json": {
              "type": "string"
            }
          },
          "metadata": {},
          "execution_count": 12
        }
      ]
    },
    {
      "cell_type": "code",
      "source": [
        "#12.Use Pandas to load a CSV file and display its first 5 rows.\n",
        "\n",
        "'''\n",
        "import pandas as pd\n",
        "\n",
        "df = pd.read_csv('file.csv')  # Replace with actual file path\n",
        "print(df.head())\n",
        "'''"
      ],
      "metadata": {
        "colab": {
          "base_uri": "https://localhost:8080/",
          "height": 36
        },
        "id": "a9jVovnBc2lS",
        "outputId": "92cfd37f-5d77-4787-efc6-b9ad5d54cfed"
      },
      "execution_count": 13,
      "outputs": [
        {
          "output_type": "execute_result",
          "data": {
            "text/plain": [
              "\"\\nimport pandas as pd\\n\\ndf = pd.read_csv('file.csv')  # Replace with actual file path\\nprint(df.head())\\n\""
            ],
            "application/vnd.google.colaboratory.intrinsic+json": {
              "type": "string"
            }
          },
          "metadata": {},
          "execution_count": 13
        }
      ]
    },
    {
      "cell_type": "code",
      "execution_count": 14,
      "metadata": {
        "id": "DdhpmxEKOVXv",
        "colab": {
          "base_uri": "https://localhost:8080/",
          "height": 53
        },
        "outputId": "af7e6448-96c6-488b-b954-914b8a1663fa"
      },
      "outputs": [
        {
          "output_type": "execute_result",
          "data": {
            "text/plain": [
              "\"\\nimport plotly.express as px\\nimport pandas as pd\\n\\ndf = pd.DataFrame({\\n    'x': [1, 2, 3],\\n    'y': [4, 5, 6],\\n    'z': [7, 8, 9]\\n})\\nfig = px.scatter_3d(df, x='x', y='y', z='z', title='3D Scatter Plot')\\nfig.show()\\n\""
            ],
            "application/vnd.google.colaboratory.intrinsic+json": {
              "type": "string"
            }
          },
          "metadata": {},
          "execution_count": 14
        }
      ],
      "source": [
        "#13.Create a 3D scatter plot using Plotly.\n",
        "\n",
        "'''\n",
        "import plotly.express as px\n",
        "import pandas as pd\n",
        "\n",
        "df = pd.DataFrame({\n",
        "    'x': [1, 2, 3],\n",
        "    'y': [4, 5, 6],\n",
        "    'z': [7, 8, 9]\n",
        "})\n",
        "fig = px.scatter_3d(df, x='x', y='y', z='z', title='3D Scatter Plot')\n",
        "fig.show()\n",
        "'''"
      ]
    }
  ]
}